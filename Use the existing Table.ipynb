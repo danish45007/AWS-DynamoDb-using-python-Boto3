{
 "cells": [
  {
   "cell_type": "code",
   "execution_count": 1,
   "metadata": {},
   "outputs": [
    {
     "name": "stdout",
     "output_type": "stream",
     "text": [
      "2020-07-14 16:58:39.688000+05:30\n"
     ]
    }
   ],
   "source": [
    "import boto3\n",
    "\n",
    "# Get the service resource.\n",
    "dynamodb = boto3.resource('dynamodb')\n",
    "\n",
    "# Instantiate a table resource object without actually\n",
    "# creating a DynamoDB table. Note that the attributes of this table\n",
    "# are lazy-loaded: a request is not made nor are the attribute\n",
    "# values populated until the attributes\n",
    "# on the table resource are accessed or its load() method is called.\n",
    "table = dynamodb.Table('users')\n",
    "\n",
    "# Print out some data about the table.\n",
    "# This will cause a request to be made to DynamoDB and its attribute\n",
    "# values will be set based on the response.\n",
    "print(table.creation_date_time)"
   ]
  },
  {
   "cell_type": "code",
   "execution_count": 2,
   "metadata": {},
   "outputs": [
    {
     "data": {
      "text/plain": [
       "{'ResponseMetadata': {'RequestId': 'HUC44HCJC4K1AV40O7B8PMJ9TFVV4KQNSO5AEMVJF66Q9ASUAAJG',\n",
       "  'HTTPStatusCode': 200,\n",
       "  'HTTPHeaders': {'server': 'Server',\n",
       "   'date': 'Tue, 14 Jul 2020 11:42:14 GMT',\n",
       "   'content-type': 'application/x-amz-json-1.0',\n",
       "   'content-length': '2',\n",
       "   'connection': 'keep-alive',\n",
       "   'x-amzn-requestid': 'HUC44HCJC4K1AV40O7B8PMJ9TFVV4KQNSO5AEMVJF66Q9ASUAAJG',\n",
       "   'x-amz-crc32': '2745614147'},\n",
       "  'RetryAttempts': 0}}"
      ]
     },
     "execution_count": 2,
     "metadata": {},
     "output_type": "execute_result"
    }
   ],
   "source": [
    "table.put_item(\n",
    "   Item={\n",
    "        'username': 'janedoe',\n",
    "        'first_name': 'Jane',\n",
    "        'last_name': 'Doe',\n",
    "        'age': 25,\n",
    "        'account_type': 'standard_user',\n",
    "    }\n",
    ")\n"
   ]
  },
  {
   "cell_type": "code",
   "execution_count": 3,
   "metadata": {},
   "outputs": [
    {
     "data": {
      "text/plain": [
       "{'ResponseMetadata': {'RequestId': '0H36DMSUVRIV7ONJJCASIH6VQVVV4KQNSO5AEMVJF66Q9ASUAAJG',\n",
       "  'HTTPStatusCode': 200,\n",
       "  'HTTPHeaders': {'server': 'Server',\n",
       "   'date': 'Tue, 14 Jul 2020 11:43:44 GMT',\n",
       "   'content-type': 'application/x-amz-json-1.0',\n",
       "   'content-length': '2',\n",
       "   'connection': 'keep-alive',\n",
       "   'x-amzn-requestid': '0H36DMSUVRIV7ONJJCASIH6VQVVV4KQNSO5AEMVJF66Q9ASUAAJG',\n",
       "   'x-amz-crc32': '2745614147'},\n",
       "  'RetryAttempts': 0}}"
      ]
     },
     "execution_count": 3,
     "metadata": {},
     "output_type": "execute_result"
    }
   ],
   "source": [
    "table.put_item(\n",
    "   Item={\n",
    "        'username': 'danish45007',\n",
    "        'first_name': 'Danish',\n",
    "        'last_name': 'Sharma',\n",
    "        'age': 21,\n",
    "        'account_type': 'standard_user',\n",
    "    }\n",
    ")"
   ]
  },
  {
   "cell_type": "code",
   "execution_count": null,
   "metadata": {},
   "outputs": [],
   "source": []
  }
 ],
 "metadata": {
  "kernelspec": {
   "display_name": "Python 3",
   "language": "python",
   "name": "python3"
  },
  "language_info": {
   "codemirror_mode": {
    "name": "ipython",
    "version": 3
   },
   "file_extension": ".py",
   "mimetype": "text/x-python",
   "name": "python",
   "nbconvert_exporter": "python",
   "pygments_lexer": "ipython3",
   "version": "3.6.9"
  }
 },
 "nbformat": 4,
 "nbformat_minor": 4
}
